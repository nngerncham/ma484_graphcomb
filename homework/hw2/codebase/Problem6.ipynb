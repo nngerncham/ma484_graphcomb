{
 "cells": [
  {
   "cell_type": "markdown",
   "metadata": {},
   "source": [
    "# Homework 2, Problem 6\n",
    "\n",
    "## Generic Graph Class"
   ]
  },
  {
   "cell_type": "code",
   "execution_count": 1,
   "metadata": {},
   "outputs": [],
   "source": [
    "from typing import List, Dict, Set, Tuple\n",
    "\n",
    "class Graph:\n",
    "    def __init__(self):\n",
    "        self.adj: Dict[int, Set] = {}\n",
    "\n",
    "    def add_vertex(self, v: int):\n",
    "        self.adj[v-1] = set()\n",
    "        \n",
    "    def add_edge(self, u: int, v: int):\n",
    "        if u-1 not in self.adj:\n",
    "            self.add_vertex(u)\n",
    "        if v-1 not in self.adj:\n",
    "            self.add_vertex(v)\n",
    "\n",
    "        self.adj[u-1].add(v-1)\n",
    "        self.adj[v-1].add(u-1)\n",
    "\n",
    "    def remove_vertex(self, v: int):\n",
    "        for nbr in self.adj[v-1]:\n",
    "            self.adj[nbr].remove(v-1)\n",
    "        del self.adj[v-1]\n",
    "\n",
    "    def N(self, v: int) -> Set[int]:\n",
    "        to_show = {u+1 for u in self.adj[v-1]}\n",
    "        return to_show\n",
    "\n",
    "    def degree(self, v: int) -> int:\n",
    "        return len(self.adj[v-1])\n",
    "\n",
    "    def n(self):\n",
    "        return len(self.adj)\n",
    "\n",
    "    def __repr__(self):\n",
    "        to_show = {v+1: {u+1 for u in self.adj[v]} for v in self.adj}\n",
    "        return to_show.__repr__()\n",
    "\n",
    "    def __str__(self):\n",
    "        to_show = {v+1: {u+1 for u in self.adj[v]} for v in self.adj}\n",
    "        return to_show.__str__()"
   ]
  },
  {
   "cell_type": "markdown",
   "metadata": {},
   "source": [
    "## Program 1"
   ]
  },
  {
   "cell_type": "code",
   "execution_count": 2,
   "metadata": {},
   "outputs": [
    {
     "data": {
      "text/plain": [
       "{2: {1}, 1: {2, 3, 4}, 4: {1}, 3: {1, 5}, 5: {3, 6, 7}, 6: {5}, 7: {5}}"
      ]
     },
     "execution_count": 2,
     "metadata": {},
     "output_type": "execute_result"
    }
   ],
   "source": [
    "def prufer_to_graph(S: List[int]) -> Graph:\n",
    "    \"\"\"\n",
    "    Running time: O(too long)\n",
    "    Improvements: Exists but couldn't be bothered\n",
    "    \"\"\"\n",
    "    n = len(S) + 2\n",
    "    L = [i+1 for i in range(n)]\n",
    "\n",
    "    T = Graph()\n",
    "    for i, s in enumerate(S):\n",
    "        v = min([l for l in L if l not in S[i:]])\n",
    "        T.add_edge(v, s)\n",
    "        L.remove(v)\n",
    "\n",
    "    assert len(L) == 2\n",
    "    u, v = [l for l in L]\n",
    "    T.add_edge(u, v)\n",
    "\n",
    "    return T\n",
    "\n",
    "T = prufer_to_graph([1, 1, 3, 5, 5])\n",
    "T"
   ]
  },
  {
   "cell_type": "markdown",
   "metadata": {},
   "source": [
    "## Program 2"
   ]
  },
  {
   "cell_type": "code",
   "execution_count": 3,
   "metadata": {},
   "outputs": [
    {
     "data": {
      "text/plain": [
       "[1, 1, 3, 5, 5]"
      ]
     },
     "execution_count": 3,
     "metadata": {},
     "output_type": "execute_result"
    }
   ],
   "source": [
    "def tree_to_prufer(T: Graph) -> List[int]:\n",
    "    \"\"\"\n",
    "    Running time: O(too long) as well\n",
    "    Improvements: Exists but couldn't be bothered too\n",
    "    \"\"\"\n",
    "    tmp = Graph()\n",
    "    tmp.adj = T.adj.copy()\n",
    "    T = tmp\n",
    "    \n",
    "    S = []\n",
    "    leaves = {v+1 for v in T.adj if T.degree(v+1) == 1}\n",
    "    while T.n() > 2:\n",
    "        l = min(leaves)\n",
    "        leaves.remove(l)\n",
    "\n",
    "        [parent] = [v for v in T.N(l)]\n",
    "        S.append(parent)\n",
    "        T.remove_vertex(l)\n",
    "\n",
    "        if T.degree(parent) == 1:\n",
    "            leaves.add(parent)\n",
    "\n",
    "    del T\n",
    "    return S\n",
    "\n",
    "S = tree_to_prufer(T)\n",
    "S"
   ]
  },
  {
   "cell_type": "markdown",
   "metadata": {},
   "source": [
    "## Program 3"
   ]
  },
  {
   "cell_type": "code",
   "execution_count": 4,
   "metadata": {},
   "outputs": [],
   "source": [
    "def gen_prufer_trees(n: int) -> Set[Tuple[List[int], Graph]]:\n",
    "    assert n >= 3\n",
    "    perms = cartesian_product([[i+1 for i in range(n)] for _ in range(n-2)]).list()\n",
    "    results = [(p, prufer_to_graph(p)) for p in perms]\n",
    "    return results"
   ]
  },
  {
   "cell_type": "markdown",
   "metadata": {},
   "source": [
    "##### $n=3$"
   ]
  },
  {
   "cell_type": "code",
   "execution_count": 5,
   "metadata": {},
   "outputs": [
    {
     "data": {
      "text/plain": [
       "[((1,), {2: {1}, 1: {2, 3}, 3: {1}}),\n",
       " ((2,), {1: {2}, 2: {1, 3}, 3: {2}}),\n",
       " ((3,), {1: {3}, 3: {1, 2}, 2: {3}})]"
      ]
     },
     "execution_count": 5,
     "metadata": {},
     "output_type": "execute_result"
    }
   ],
   "source": [
    "gen_prufer_trees(3)"
   ]
  },
  {
   "cell_type": "markdown",
   "metadata": {},
   "source": [
    "##### $n=4$"
   ]
  },
  {
   "cell_type": "code",
   "execution_count": 6,
   "metadata": {},
   "outputs": [
    {
     "data": {
      "text/plain": [
       "[((1, 1), {2: {1}, 1: {2, 3, 4}, 3: {1}, 4: {1}}),\n",
       " ((1, 2), {3: {1}, 1: {2, 3}, 2: {1, 4}, 4: {2}}),\n",
       " ((1, 3), {2: {1}, 1: {2, 3}, 3: {1, 4}, 4: {3}}),\n",
       " ((1, 4), {2: {1}, 1: {2, 4}, 4: {1, 3}, 3: {4}}),\n",
       " ((2, 1), {3: {2}, 2: {1, 3}, 1: {2, 4}, 4: {1}}),\n",
       " ((2, 2), {1: {2}, 2: {1, 3, 4}, 3: {2}, 4: {2}}),\n",
       " ((2, 3), {1: {2}, 2: {1, 3}, 3: {2, 4}, 4: {3}}),\n",
       " ((2, 4), {1: {2}, 2: {1, 4}, 4: {2, 3}, 3: {4}}),\n",
       " ((3, 1), {2: {3}, 3: {1, 2}, 1: {3, 4}, 4: {1}}),\n",
       " ((3, 2), {1: {3}, 3: {1, 2}, 2: {3, 4}, 4: {2}}),\n",
       " ((3, 3), {1: {3}, 3: {1, 2, 4}, 2: {3}, 4: {3}}),\n",
       " ((3, 4), {1: {3}, 3: {1, 4}, 2: {4}, 4: {2, 3}}),\n",
       " ((4, 1), {2: {4}, 4: {1, 2}, 3: {1}, 1: {3, 4}}),\n",
       " ((4, 2), {1: {4}, 4: {1, 2}, 3: {2}, 2: {3, 4}}),\n",
       " ((4, 3), {1: {4}, 4: {1, 3}, 2: {3}, 3: {2, 4}}),\n",
       " ((4, 4), {1: {4}, 4: {1, 2, 3}, 2: {4}, 3: {4}})]"
      ]
     },
     "execution_count": 6,
     "metadata": {},
     "output_type": "execute_result"
    }
   ],
   "source": [
    "gen_prufer_trees(4)"
   ]
  }
 ],
 "metadata": {
  "kernelspec": {
   "display_name": "SageMath 10.0",
   "language": "sage",
   "name": "SageMath-10.0"
  },
  "language_info": {
   "codemirror_mode": {
    "name": "ipython",
    "version": 3
   },
   "file_extension": ".py",
   "mimetype": "text/x-python",
   "name": "python",
   "nbconvert_exporter": "python",
   "pygments_lexer": "ipython3",
   "version": "3.11.1"
  }
 },
 "nbformat": 4,
 "nbformat_minor": 2
}
