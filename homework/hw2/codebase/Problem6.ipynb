{
 "cells": [
  {
   "cell_type": "markdown",
   "metadata": {},
   "source": [
    "# Homework 2, Problem 6\n",
    "\n",
    "## Generic Graph Class\n"
   ]
  },
  {
   "cell_type": "code",
   "execution_count": 1,
   "metadata": {
    "vscode": {
     "languageId": "python"
    }
   },
   "outputs": [],
   "source": [
    "from typing import List, Dict, Set, Tuple\n",
    "\n",
    "\n",
    "class Graph:\n",
    "    def __init__(self):\n",
    "        self.adj: Dict[int, Set] = {}\n",
    "\n",
    "    def add_vertex(self, v: int):\n",
    "        self.adj[v - 1] = set()\n",
    "\n",
    "    def add_edge(self, u: int, v: int):\n",
    "        if u - 1 not in self.adj:\n",
    "            self.add_vertex(u)\n",
    "        if v - 1 not in self.adj:\n",
    "            self.add_vertex(v)\n",
    "\n",
    "        self.adj[u - 1].add(v - 1)\n",
    "        self.adj[v - 1].add(u - 1)\n",
    "\n",
    "    def remove_vertex(self, v: int):\n",
    "        for nbr in self.adj[v - 1]:\n",
    "            self.adj[nbr].remove(v - 1)\n",
    "        del self.adj[v - 1]\n",
    "\n",
    "    def N(self, v: int) -> Set[int]:\n",
    "        to_show = {u + 1 for u in self.adj[v - 1]}\n",
    "        return to_show\n",
    "\n",
    "    def degree(self, v: int) -> int:\n",
    "        return len(self.adj[v - 1])\n",
    "\n",
    "    def n(self):\n",
    "        return len(self.adj)\n",
    "\n",
    "    def __repr__(self):\n",
    "        to_show = {v + 1: {u + 1 for u in self.adj[v]} for v in self.adj}\n",
    "        return to_show.__repr__()\n",
    "\n",
    "    def __str__(self):\n",
    "        to_show = {v + 1: {u + 1 for u in self.adj[v]} for v in self.adj}\n",
    "        return to_show.__str__()"
   ]
  },
  {
   "cell_type": "markdown",
   "metadata": {},
   "source": [
    "## Program 1\n"
   ]
  },
  {
   "cell_type": "code",
   "execution_count": 2,
   "metadata": {
    "vscode": {
     "languageId": "python"
    }
   },
   "outputs": [
    {
     "data": {
      "text/plain": [
       "{2: {1}, 1: {2, 3, 4}, 4: {1}, 3: {1, 5}, 5: {3, 6, 7}, 6: {5}, 7: {5}}"
      ]
     },
     "execution_count": 2,
     "metadata": {},
     "output_type": "execute_result"
    }
   ],
   "source": [
    "def prufer_to_graph(S: List[int]) -> Graph:\n",
    "    \"\"\"\n",
    "    Running time: O(too long)\n",
    "    Improvements: Exists but couldn't be bothered\n",
    "    \"\"\"\n",
    "    n = len(S) + 2\n",
    "    L = [i + 1 for i in range(n)]\n",
    "\n",
    "    T = Graph()\n",
    "    for i, s in enumerate(S):\n",
    "        # gets minimum vertex not in S and connect it to the graph\n",
    "        v = min([l for l in L if l not in S[i:]])\n",
    "        T.add_edge(v, s)\n",
    "        L.remove(v)\n",
    "\n",
    "    # adds the last edge/vertex\n",
    "    assert len(L) == 2\n",
    "    u, v = [l for l in L]\n",
    "    T.add_edge(u, v)\n",
    "\n",
    "    return T\n",
    "\n",
    "\n",
    "T = prufer_to_graph([1, 1, 3, 5, 5])\n",
    "T"
   ]
  },
  {
   "cell_type": "markdown",
   "metadata": {},
   "source": [
    "## Program 2\n"
   ]
  },
  {
   "cell_type": "code",
   "execution_count": 3,
   "metadata": {
    "vscode": {
     "languageId": "python"
    }
   },
   "outputs": [
    {
     "data": {
      "text/plain": [
       "[1, 1, 3, 5, 5]"
      ]
     },
     "execution_count": 3,
     "metadata": {},
     "output_type": "execute_result"
    }
   ],
   "source": [
    "def tree_to_prufer(T: Graph) -> List[int]:\n",
    "    \"\"\"\n",
    "    Running time: O(too long) as well\n",
    "    Improvements: Exists but couldn't be bothered too\n",
    "    \"\"\"\n",
    "    tmp = Graph()\n",
    "    tmp.adj = T.adj.copy()\n",
    "    T = tmp\n",
    "\n",
    "    S = []\n",
    "    leaves = {v + 1 for v in T.adj if T.degree(v + 1) == 1}\n",
    "    while T.n() > 2:\n",
    "        # gets the smallest leaf\n",
    "        l = min(leaves)\n",
    "        leaves.remove(l)\n",
    "\n",
    "        # add parent to sequence\n",
    "        [parent] = [v for v in T.N(l)]\n",
    "        S.append(parent)\n",
    "        T.remove_vertex(l)\n",
    "\n",
    "        # update collection of leaves\n",
    "        if T.degree(parent) == 1:\n",
    "            leaves.add(parent)\n",
    "\n",
    "    del T\n",
    "    return S\n",
    "\n",
    "\n",
    "S = tree_to_prufer(T)\n",
    "S"
   ]
  },
  {
   "cell_type": "markdown",
   "metadata": {},
   "source": [
    "## Program 3\n"
   ]
  },
  {
   "cell_type": "code",
   "execution_count": 4,
   "metadata": {
    "vscode": {
     "languageId": "python"
    }
   },
   "outputs": [],
   "source": [
    "def gen_prufer_trees(n: int) -> List[Tuple[List[int], Graph]]:\n",
    "    assert n >= 3\n",
    "    perms = cartesian_product([[i + 1 for i in range(n)] for _ in range(n - 2)]).list()\n",
    "    results = [(list(p), prufer_to_graph(p)) for p in perms]\n",
    "    return results"
   ]
  },
  {
   "cell_type": "markdown",
   "metadata": {},
   "source": [
    "### Verification\n",
    "\n",
    "The verification will be done as follows. First, we will generate all the pairs of $(S, T)$ where\n",
    "$S$ is the Prufer sequence and $T$ is the corresponding labelled tree. Then, we convert $T$ back to\n",
    "a Prufer Sequence and assert that it is the same sequence as $S$. After that, we assert that for\n",
    "every labelled tree $T$, $T$ is unique among all trees that show up in the returning results for\n",
    "some given value $n$.\n",
    "\n",
    "If all assertions pass, then the we would have that every tree that shows up is unique and is 1-to-1\n",
    "with the sequence that shows up with it in a pair---verifying the code that we wrote."
   ]
  },
  {
   "cell_type": "code",
   "execution_count": 5,
   "metadata": {
    "vscode": {
     "languageId": "python"
    }
   },
   "outputs": [],
   "source": [
    "def verify_results(results: List[Tuple[List[int], Graph]]):\n",
    "    # converting T back to sequence and assert that it is the same as S\n",
    "    for S, T in results:\n",
    "        converted_pc = tree_to_prufer(T)\n",
    "        assert all([x == y for x, y in zip(S, converted_pc)])\n",
    "\n",
    "    # gets all adjacency map of the trees and asserts that it an adjacency map shows up only once\n",
    "    all_trees = [tree.adj for _, tree in results]\n",
    "    for _, T in results:\n",
    "        assert all_trees.count(T.adj) == 1\n",
    "\n",
    "    return \"Passed!\""
   ]
  },
  {
   "cell_type": "code",
   "execution_count": 6,
   "metadata": {
    "vscode": {
     "languageId": "python"
    }
   },
   "outputs": [
    {
     "name": "stdout",
     "output_type": "stream",
     "text": [
      "True False\n"
     ]
    }
   ],
   "source": [
    "# just to show how Dict comparison works\n",
    "A = {\"a\": 1, \"b\": 2}\n",
    "B = {\"a\": 1, \"b\": 2}\n",
    "C = {\"a\": 2, \"b\": 1}\n",
    "\n",
    "print(A == B, A == C)"
   ]
  },
  {
   "cell_type": "markdown",
   "metadata": {},
   "source": [
    "##### $n=3$\n"
   ]
  },
  {
   "cell_type": "code",
   "execution_count": 7,
   "metadata": {
    "vscode": {
     "languageId": "python"
    }
   },
   "outputs": [
    {
     "data": {
      "text/plain": [
       "[([1], {2: {1}, 1: {2, 3}, 3: {1}}),\n",
       " ([2], {1: {2}, 2: {1, 3}, 3: {2}}),\n",
       " ([3], {1: {3}, 3: {1, 2}, 2: {3}})]"
      ]
     },
     "execution_count": 7,
     "metadata": {},
     "output_type": "execute_result"
    }
   ],
   "source": [
    "n3_results = gen_prufer_trees(3)\n",
    "n3_results"
   ]
  },
  {
   "cell_type": "code",
   "execution_count": 8,
   "metadata": {
    "vscode": {
     "languageId": "python"
    }
   },
   "outputs": [
    {
     "data": {
      "text/plain": [
       "'Passed!'"
      ]
     },
     "execution_count": 8,
     "metadata": {},
     "output_type": "execute_result"
    }
   ],
   "source": [
    "verify_results(n3_results)"
   ]
  },
  {
   "cell_type": "markdown",
   "metadata": {},
   "source": [
    "##### $n=4$\n"
   ]
  },
  {
   "cell_type": "code",
   "execution_count": 9,
   "metadata": {
    "vscode": {
     "languageId": "python"
    }
   },
   "outputs": [
    {
     "data": {
      "text/plain": [
       "[([1, 1], {2: {1}, 1: {2, 3, 4}, 3: {1}, 4: {1}}),\n",
       " ([1, 2], {3: {1}, 1: {2, 3}, 2: {1, 4}, 4: {2}}),\n",
       " ([1, 3], {2: {1}, 1: {2, 3}, 3: {1, 4}, 4: {3}}),\n",
       " ([1, 4], {2: {1}, 1: {2, 4}, 4: {1, 3}, 3: {4}}),\n",
       " ([2, 1], {3: {2}, 2: {1, 3}, 1: {2, 4}, 4: {1}}),\n",
       " ([2, 2], {1: {2}, 2: {1, 3, 4}, 3: {2}, 4: {2}}),\n",
       " ([2, 3], {1: {2}, 2: {1, 3}, 3: {2, 4}, 4: {3}}),\n",
       " ([2, 4], {1: {2}, 2: {1, 4}, 4: {2, 3}, 3: {4}}),\n",
       " ([3, 1], {2: {3}, 3: {1, 2}, 1: {3, 4}, 4: {1}}),\n",
       " ([3, 2], {1: {3}, 3: {1, 2}, 2: {3, 4}, 4: {2}}),\n",
       " ([3, 3], {1: {3}, 3: {1, 2, 4}, 2: {3}, 4: {3}}),\n",
       " ([3, 4], {1: {3}, 3: {1, 4}, 2: {4}, 4: {2, 3}}),\n",
       " ([4, 1], {2: {4}, 4: {1, 2}, 3: {1}, 1: {3, 4}}),\n",
       " ([4, 2], {1: {4}, 4: {1, 2}, 3: {2}, 2: {3, 4}}),\n",
       " ([4, 3], {1: {4}, 4: {1, 3}, 2: {3}, 3: {2, 4}}),\n",
       " ([4, 4], {1: {4}, 4: {1, 2, 3}, 2: {4}, 3: {4}})]"
      ]
     },
     "execution_count": 9,
     "metadata": {},
     "output_type": "execute_result"
    }
   ],
   "source": [
    "n4_results = gen_prufer_trees(4)\n",
    "n4_results"
   ]
  },
  {
   "cell_type": "code",
   "execution_count": 10,
   "metadata": {
    "vscode": {
     "languageId": "python"
    }
   },
   "outputs": [
    {
     "data": {
      "text/plain": [
       "'Passed!'"
      ]
     },
     "execution_count": 10,
     "metadata": {},
     "output_type": "execute_result"
    }
   ],
   "source": [
    "verify_results(n4_results)"
   ]
  }
 ],
 "metadata": {
  "kernelspec": {
   "display_name": "SageMath 10.0",
   "language": "sage",
   "name": "SageMath-10.0"
  },
  "language_info": {
   "codemirror_mode": {
    "name": "ipython",
    "version": 3
   },
   "file_extension": ".py",
   "mimetype": "text/x-python",
   "name": "sage",
   "nbconvert_exporter": "python",
   "pygments_lexer": "ipython3",
   "version": "3.11.1"
  }
 },
 "nbformat": 4,
 "nbformat_minor": 4
}
